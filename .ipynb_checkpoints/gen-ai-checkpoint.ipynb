{
 "cells": [
  {
   "cell_type": "code",
   "execution_count": 2,
   "metadata": {},
   "outputs": [
    {
     "name": "stdout",
     "output_type": "stream",
     "text": [
      "Collecting pytorch-lightning\n",
      "  Using cached pytorch_lightning-2.0.4-py3-none-any.whl (721 kB)\n",
      "Collecting tqdm>=4.57.0\n",
      "  Using cached tqdm-4.65.0-py3-none-any.whl (77 kB)\n",
      "Requirement already satisfied: typing-extensions>=4.0.0 in ./base/lib/python3.10/site-packages (from pytorch-lightning) (4.7.1)\n",
      "Collecting lightning-utilities>=0.7.0\n",
      "  Using cached lightning_utilities-0.9.0-py3-none-any.whl (23 kB)\n",
      "Collecting PyYAML>=5.4\n",
      "  Using cached PyYAML-6.0-cp310-cp310-macosx_10_9_x86_64.whl (197 kB)\n",
      "Requirement already satisfied: numpy>=1.17.2 in ./base/lib/python3.10/site-packages (from pytorch-lightning) (1.25.1)\n",
      "Collecting fsspec[http]>2021.06.0\n",
      "  Using cached fsspec-2023.6.0-py3-none-any.whl (163 kB)\n",
      "Requirement already satisfied: torch>=1.11.0 in ./base/lib/python3.10/site-packages (from pytorch-lightning) (2.0.1)\n",
      "Collecting torchmetrics>=0.7.0\n",
      "  Using cached torchmetrics-1.0.0-py3-none-any.whl (728 kB)\n",
      "Requirement already satisfied: packaging>=17.1 in ./base/lib/python3.10/site-packages (from pytorch-lightning) (23.1)\n",
      "Requirement already satisfied: requests in ./base/lib/python3.10/site-packages (from fsspec[http]>2021.06.0->pytorch-lightning) (2.31.0)\n",
      "Collecting aiohttp!=4.0.0a0,!=4.0.0a1\n",
      "  Using cached aiohttp-3.8.4-cp310-cp310-macosx_10_9_x86_64.whl (358 kB)\n",
      "Collecting yarl<2.0,>=1.0\n",
      "  Using cached yarl-1.9.2-cp310-cp310-macosx_10_9_x86_64.whl (65 kB)\n",
      "Collecting attrs>=17.3.0\n",
      "  Using cached attrs-23.1.0-py3-none-any.whl (61 kB)\n",
      "Collecting frozenlist>=1.1.1\n",
      "  Using cached frozenlist-1.3.3-cp310-cp310-macosx_10_9_x86_64.whl (35 kB)\n",
      "Requirement already satisfied: charset-normalizer<4.0,>=2.0 in ./base/lib/python3.10/site-packages (from aiohttp!=4.0.0a0,!=4.0.0a1->fsspec[http]>2021.06.0->pytorch-lightning) (3.2.0)\n",
      "Collecting async-timeout<5.0,>=4.0.0a3\n",
      "  Using cached async_timeout-4.0.2-py3-none-any.whl (5.8 kB)\n",
      "Collecting aiosignal>=1.1.2\n",
      "  Using cached aiosignal-1.3.1-py3-none-any.whl (7.6 kB)\n",
      "Collecting multidict<7.0,>=4.5\n",
      "  Using cached multidict-6.0.4-cp310-cp310-macosx_10_9_x86_64.whl (29 kB)\n",
      "Requirement already satisfied: sympy in ./base/lib/python3.10/site-packages (from torch>=1.11.0->pytorch-lightning) (1.12)\n",
      "Requirement already satisfied: networkx in ./base/lib/python3.10/site-packages (from torch>=1.11.0->pytorch-lightning) (3.1)\n",
      "Requirement already satisfied: filelock in ./base/lib/python3.10/site-packages (from torch>=1.11.0->pytorch-lightning) (3.12.2)\n",
      "Requirement already satisfied: jinja2 in ./base/lib/python3.10/site-packages (from torch>=1.11.0->pytorch-lightning) (3.1.2)\n",
      "Requirement already satisfied: idna>=2.0 in ./base/lib/python3.10/site-packages (from yarl<2.0,>=1.0->aiohttp!=4.0.0a0,!=4.0.0a1->fsspec[http]>2021.06.0->pytorch-lightning) (3.4)\n",
      "Requirement already satisfied: MarkupSafe>=2.0 in ./base/lib/python3.10/site-packages (from jinja2->torch>=1.11.0->pytorch-lightning) (2.1.3)\n",
      "Requirement already satisfied: urllib3<3,>=1.21.1 in ./base/lib/python3.10/site-packages (from requests->fsspec[http]>2021.06.0->pytorch-lightning) (2.0.3)\n",
      "Requirement already satisfied: certifi>=2017.4.17 in ./base/lib/python3.10/site-packages (from requests->fsspec[http]>2021.06.0->pytorch-lightning) (2023.5.7)\n",
      "Requirement already satisfied: mpmath>=0.19 in ./base/lib/python3.10/site-packages (from sympy->torch>=1.11.0->pytorch-lightning) (1.3.0)\n",
      "Installing collected packages: multidict, frozenlist, yarl, attrs, async-timeout, aiosignal, lightning-utilities, fsspec, aiohttp, tqdm, torchmetrics, PyYAML, pytorch-lightning\n",
      "Successfully installed PyYAML-6.0 aiohttp-3.8.4 aiosignal-1.3.1 async-timeout-4.0.2 attrs-23.1.0 frozenlist-1.3.3 fsspec-2023.6.0 lightning-utilities-0.9.0 multidict-6.0.4 pytorch-lightning-2.0.4 torchmetrics-1.0.0 tqdm-4.65.0 yarl-1.9.2\n",
      "\u001b[33mWARNING: You are using pip version 21.2.4; however, version 23.1.2 is available.\n",
      "You should consider upgrading via the '/Users/BelierJavier/Desktop/Gen-AI Practice/base/bin/python -m pip install --upgrade pip' command.\u001b[0m\n",
      "Note: you may need to restart the kernel to use updated packages.\n"
     ]
    }
   ],
   "source": [
    "%pip install pytorch-lightning"
   ]
  },
  {
   "cell_type": "code",
   "execution_count": 3,
   "metadata": {},
   "outputs": [],
   "source": [
    "import os\n",
    "\n",
    "import torch\n",
    "import torchvision\n",
    "import torch.nn as nn\n",
    "import torch.optim as optim\n",
    "import torch.nn.functional as F\n",
    "import torchvision.datasets as datasets\n",
    "import torchvision.transforms as transforms\n",
    "from torch.utils.data import DataLoader, random_split\n",
    "from torchvision.datasets import MNIST\n",
    "\n",
    "import matplotlib.pyplot as plt\n",
    "import pytorch_lightning as pl"
   ]
  }
 ],
 "metadata": {
  "kernelspec": {
   "display_name": "Python 3",
   "language": "python",
   "name": "python3"
  },
  "language_info": {
   "codemirror_mode": {
    "name": "ipython",
    "version": 3
   },
   "file_extension": ".py",
   "mimetype": "text/x-python",
   "name": "python",
   "nbconvert_exporter": "python",
   "pygments_lexer": "ipython3",
   "version": "3.10.1"
  },
  "orig_nbformat": 4
 },
 "nbformat": 4,
 "nbformat_minor": 2
}
